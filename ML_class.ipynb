{
 "cells": [
  {
   "cell_type": "code",
   "execution_count": null,
   "metadata": {},
   "outputs": [],
   "source": [
    "!git clone \"https://github.com/domiurg/ML_class_kaggle\""
   ]
  },
  {
   "cell_type": "code",
   "execution_count": null,
   "metadata": {},
   "outputs": [],
   "source": [
    "from tensorflow.keras.models import Model\n",
    "from tensorflow.keras.layers import Flatten, Dense, Dropout, GlobalAveragePooling2D\n",
    "from tensorflow.keras.optimizers import Adam\n",
    "from tensorflow.keras.callbacks import ModelCheckpoint, EarlyStopping, CSVLogger\n",
    "# from tensorflow.keras.applications.vgg16 import VGG16, preprocess_input\n",
    "# from tensorflow.keras.applications.vgg19 import VGG19\n",
    "from tensorflow.keras.applications.resnet_v2 import ResNet50V2, preprocess_input\n",
    "from tensorflow.keras.preprocessing.image import ImageDataGenerator\n",
    "import os\n"
   ]
  },
  {
   "cell_type": "code",
   "execution_count": null,
   "metadata": {},
   "outputs": [],
   "source": [
    "training_set_path = 'ML_class_kaggle/train_kaggle'\n",
    "val_set_path = 'ML_class_kaggle/val_kaggle'\n",
    "\n",
    "class DataGenerator(object):\n",
    "    def __init__(self, train_path='', val_path='', preprocess=None, img_size=(224, 224), b_size=4):\n",
    "        self.train_path = train_path\n",
    "        self.val_path = val_path\n",
    "        self.preprocess = preprocess\n",
    "        self.img_size = img_size\n",
    "        self.b_size = b_size\n",
    "        self.train_datagen = ImageDataGenerator(preprocessing_function=self.preprocess,\n",
    "                                                rotation_range=40,\n",
    "                                                width_shift_range=0.2,\n",
    "                                                height_shift_range=0.2,\n",
    "                                                shear_range=0.2,\n",
    "                                                zoom_range=0.2,\n",
    "                                                channel_shift_range=10,\n",
    "                                                horizontal_flip=True,\n",
    "                                                fill_mode='nearest')\n",
    "        self.val_datagen = valid_datagen = ImageDataGenerator(preprocessing_function=self.preprocess)\n",
    "\n",
    "    def get_batches(self):\n",
    "        train_batches = self.train_datagen.flow_from_directory(self.train_path,\n",
    "                                                               target_size=self.img_size,\n",
    "                                                               interpolation='bicubic',\n",
    "                                                               class_mode='categorical',\n",
    "                                                               shuffle=True,\n",
    "                                                               batch_size=self.b_size)\n",
    "        val_bathces = self.val_datagen.flow_from_directory(self.val_path,\n",
    "                                                           target_size=self.img_size,\n",
    "                                                           interpolation='bicubic',\n",
    "                                                           class_mode='categorical',\n",
    "                                                           shuffle=False,\n",
    "                                                           batch_size=self.b_size)\n",
    "        return train_batches, val_bathces"
   ]
  },
  {
   "cell_type": "code",
   "execution_count": null,
   "metadata": {},
   "outputs": [],
   "source": [
    "IMAGE_SIZE = (224, 224)\n",
    "NUM_CLASSES = 5\n",
    "BATCH_SIZE = 4  # try reducing batch size or freeze more layers if your GPU runs out of memory\n",
    "NUM_EPOCHS = 1500\n",
    "WEIGHTS_FINAL = 'model-resnet50v2-final.h5'\n",
    "\n",
    "datagen = DataGenerator(training_set_path, val_set_path, preprocess_input, IMAGE_SIZE, BATCH_SIZE)\n",
    "train_batches, val_batches = datagen.get_batches()\n",
    "\n",
    "# show class indices\n",
    "print('****************')\n",
    "for cls, idx in train_batches.class_indices.items():\n",
    "    print('Class #{} = {}'.format(idx, cls))\n",
    "print('****************')"
   ]
  },
  {
   "cell_type": "code",
   "execution_count": null,
   "metadata": {},
   "outputs": [],
   "source": [
    "net = ResNet50V2(include_top=False, weights='imagenet', input_tensor=None,\n",
    "                  input_shape=(*IMAGE_SIZE, 3))\n",
    "x = net.output\n",
    "x = GlobalAveragePooling2D()(x)\n",
    "x = Flatten()(x)\n",
    "x = Dropout(0.5)(x)\n",
    "x = Dense(units=512, activation='relu')(x)\n",
    "x = Dropout(0.5)(x)\n",
    "output_layer = Dense(NUM_CLASSES, activation='softmax', name='softmax')(x)\n",
    "net_final = Model(inputs=net.input, outputs=output_layer)\n",
    "\n",
    "for layer in net.layers[:len(net.layers) - 12]:\n",
    "    layer.trainable = False\n",
    "net_final.compile(optimizer=Adam(lr=0.0001),\n",
    "                  loss='categorical_crossentropy', metrics=['accuracy'])\n",
    "\n",
    "print(net_final.summary())\n",
    "print(len(net.layers))"
   ]
  },
  {
   "cell_type": "code",
   "execution_count": null,
   "metadata": {},
   "outputs": [],
   "source": [
    "# Define Callbacks\n",
    "filepath = \"res50v2-best.hdf5\"\n",
    "checkpoint = ModelCheckpoint(filepath, monitor='val_acc', verbose=1,\n",
    "                             save_best_only=True, mode='max')\n",
    "early_stop = EarlyStopping(monitor='val_acc', mode='max', verbose=1, patience=150)\n",
    "csv_history = 'res50v2-history.csv'\n",
    "csv_logger = CSVLogger(csv_history, append=False)\n",
    "callbacks = [checkpoint, early_stop, csv_logger]"
   ]
  },
  {
   "cell_type": "code",
   "execution_count": null,
   "metadata": {},
   "outputs": [],
   "source": [
    "# train the model\n",
    "H = net_final.fit_generator(train_batches,\n",
    "                            steps_per_epoch=train_batches.samples // BATCH_SIZE,\n",
    "                            validation_data=val_batches,\n",
    "                            validation_steps=val_batches.samples // BATCH_SIZE,\n",
    "                            epochs=NUM_EPOCHS,\n",
    "                            callbacks=callbacks)\n",
    "\n",
    "net_final.save(WEIGHTS_FINAL)"
   ]
  },
  {
   "cell_type": "code",
   "execution_count": null,
   "metadata": {},
   "outputs": [],
   "source": []
  }
 ],
 "metadata": {
  "kernelspec": {
   "display_name": "Python 3",
   "language": "python",
   "name": "python3"
  },
  "language_info": {
   "codemirror_mode": {
    "name": "ipython",
    "version": 3
   },
   "file_extension": ".py",
   "mimetype": "text/x-python",
   "name": "python",
   "nbconvert_exporter": "python",
   "pygments_lexer": "ipython3",
   "version": "3.6.9"
  }
 },
 "nbformat": 4,
 "nbformat_minor": 4
}
